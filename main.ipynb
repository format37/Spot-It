{
 "cells": [
  {
   "cell_type": "markdown",
   "metadata": {},
   "source": [
    "Thanks to   \n",
    "https://github.com/WRadigan/pySpot-It/blob/master/pySpot-It.py"
   ]
  },
  {
   "cell_type": "code",
   "execution_count": 1,
   "metadata": {},
   "outputs": [],
   "source": [
    "from PIL import Image\n",
    "from PIL import ImageDraw\n",
    "from PIL import ImageFont\n",
    "from random import shuffle\n",
    "from random import randint"
   ]
  },
  {
   "cell_type": "code",
   "execution_count": 2,
   "metadata": {},
   "outputs": [],
   "source": [
    "with open('symbols.txt','r') as file:\n",
    "    symbols = [line.replace('\\n','').replace(' ','') for line in file.readlines()]"
   ]
  },
  {
   "cell_type": "code",
   "execution_count": 3,
   "metadata": {},
   "outputs": [],
   "source": [
    "def create_cards(p):\n",
    "    for min_factor in range(2, 1 + int(p ** 0.5)):\n",
    "        if p % min_factor == 0:\n",
    "            break\n",
    "    else:\n",
    "        min_factor = p\n",
    "    cards = []\n",
    "    for i in range(p):\n",
    "        cards.append(set([i * p + j for j in range(p)] + [p * p]))\n",
    "    for i in range(min_factor):\n",
    "        for j in range(p):\n",
    "            cards.append(set([k * p + (j + i * k) % p\n",
    "                              for k in range(p)] + [p * p + 1 + i]))\n",
    "\n",
    "    cards.append(set([p * p + i for i in range(min_factor + 1)]))\n",
    "    return cards, p * p + p + 1"
   ]
  },
  {
   "cell_type": "code",
   "execution_count": 4,
   "metadata": {},
   "outputs": [],
   "source": [
    "def draw_card(card,number,order,symbols,symbol_colors):\n",
    "    size_side=3      \n",
    "    pattern = Image.open(\"card_243.png\", \"r\").convert('RGBA')\n",
    "    size_image = width, height = pattern.size\n",
    "    size_symbol_max = int(width/3)\n",
    "    size_symbol_min = int(size_symbol_max/3)\n",
    "    size_symbol = [size for size in range(size_symbol_min,size_symbol_max,int((size_symbol_max-size_symbol_min)/(order+1)))]\n",
    "    shuffle(size_symbol)\n",
    "    draw = ImageDraw.Draw(pattern,'RGBA')\n",
    "    draw.rectangle(((0, 0), (width, width)), fill=\"black\")\n",
    "    draw.rectangle(((1, 1), (width-2, width-2)), fill=\"white\")    \n",
    "    current_symbol = 0\n",
    "    x,y=0,0\n",
    "    \n",
    "    card_symbols = list(card)\n",
    "    shuffle(card_symbols)\n",
    "    \n",
    "    while x*size_side+y<=order:\n",
    "        size_current = size_symbol[size_side*y+x]\n",
    "        center_corrector = (size_symbol_max-size_current)/2\n",
    "        font = ImageFont.truetype(\"KosugiMaru-Regular.ttf\", size_symbol[size_side*y+x])\n",
    "        symbol_text = symbols[card_symbols[size_side*y+x]]\n",
    "        draw.text((x*size_symbol_max+center_corrector,y*size_symbol_max+center_corrector), symbol_text, fill = symbol_colors[card_symbols[size_side*y+x]],font=font)        \n",
    "        if x<size_side-1:\n",
    "            x+=1\n",
    "        else:\n",
    "            x=0\n",
    "            y+=1\n",
    "            \n",
    "    pattern.save('cards/card_'+'{:03}'.format(number)+'.png')"
   ]
  },
  {
   "cell_type": "code",
   "execution_count": 5,
   "metadata": {},
   "outputs": [
    {
     "name": "stdout",
     "output_type": "stream",
     "text": [
      "57\n"
     ]
    }
   ],
   "source": [
    "#The algorythm only works for numbers where order is a prime number (E.g. [0, 1, 2, 3, 5, 7 , 11]\n",
    "order = 7\n",
    "cards, num_pictures = create_cards(order)\n",
    "print(num_pictures)"
   ]
  },
  {
   "cell_type": "code",
   "execution_count": 6,
   "metadata": {},
   "outputs": [],
   "source": [
    "colors = ['green','blue','black','orange','magenta','grey','darkred','cyan','lightblue','pink','red','lightgreen']"
   ]
  },
  {
   "cell_type": "code",
   "execution_count": 7,
   "metadata": {},
   "outputs": [],
   "source": [
    "symbol_colors = []\n",
    "color_num = 0\n",
    "for symbol in symbols:\n",
    "    symbol_colors.append(colors[color_num])\n",
    "    color_num+=1\n",
    "    if color_num>7:\n",
    "        color_num=0    "
   ]
  },
  {
   "cell_type": "code",
   "execution_count": 8,
   "metadata": {},
   "outputs": [],
   "source": [
    "number = 0\n",
    "for card in cards:\n",
    "    draw_card(card,number,order,symbols,symbol_colors)\n",
    "    number+=1"
   ]
  },
  {
   "cell_type": "markdown",
   "metadata": {},
   "source": [
    "open shotwell photo manager, import and select all images to print, go to File -> Print... in the window that opens select Image settings -> Use a custom size: 8.5 x 8.5 cm"
   ]
  }
 ],
 "metadata": {
  "kernelspec": {
   "display_name": "Python 3",
   "language": "python",
   "name": "python3"
  },
  "language_info": {
   "codemirror_mode": {
    "name": "ipython",
    "version": 3
   },
   "file_extension": ".py",
   "mimetype": "text/x-python",
   "name": "python",
   "nbconvert_exporter": "python",
   "pygments_lexer": "ipython3",
   "version": "3.7.6"
  }
 },
 "nbformat": 4,
 "nbformat_minor": 4
}
